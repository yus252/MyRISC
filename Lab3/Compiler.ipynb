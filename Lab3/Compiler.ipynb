{
 "cells": [
  {
   "cell_type": "code",
   "execution_count": 38,
   "metadata": {},
   "outputs": [],
   "source": [
    "r_file = open(\"Assembly3.txt\", \"r\") \n",
    "w_file = open(\"Machine3.txt\", \"w\")\n",
    "  \n",
    "def dec_to_bin(n, opcode):\n",
    "    n = int(n)\n",
    "    s = ''\n",
    "    while n > 0:\n",
    "        s = str(n % 2) + s\n",
    "        n = (n // 2)\n",
    "    if opcode == '0':\n",
    "        while len(s) < 4:\n",
    "            s = '0' + s\n",
    "    else:\n",
    "        while len(s) < 5:\n",
    "            s = '0' + s\n",
    "    return s\n",
    "\n",
    "operation = {'mv': \"0000\", 'as': \"0001\", 'add': '0010', 'sub': '0011', 'b': '0100', 'blt': '0101', \n",
    "'beq': '0110', 'lw': '0111', 'sw': '1000', 'xor': '1001', 'and': '1010', 'xall': '1011', 'lut': '1100', \n",
    "'sll': '1101', 'STOP': '1111', 'li': '000', 'gbi': '001', 'sb0': '010', 'sb1': '011', 'addi':'100', \n",
    "'subi': '101', 'luti': '110'}\n",
    "\n",
    "\n",
    "for line in r_file:\n",
    "    l = line.split()\n",
    "\n",
    "    instruction = l[0]\n",
    "    opcode = '1' if len(operation[instruction]) == 3 else '0'\n",
    "    val = l[1][1:] if (l[1][0] == 'r') else l[1]\n",
    " \n",
    "    w_file.write(opcode + operation[instruction] + dec_to_bin(val, opcode) + '\\n')\n",
    "    \n",
    "r_file.close()\n",
    "w_file.close()   "
   ]
  },
  {
   "cell_type": "code",
   "execution_count": 30,
   "metadata": {},
   "outputs": [],
   "source": [
    "i = 3\n",
    "k = 3 if i == 3 else 4"
   ]
  },
  {
   "cell_type": "code",
   "execution_count": 31,
   "metadata": {},
   "outputs": [
    {
     "data": {
      "text/plain": [
       "3"
      ]
     },
     "execution_count": 31,
     "metadata": {},
     "output_type": "execute_result"
    }
   ],
   "source": [
    "k"
   ]
  },
  {
   "cell_type": "code",
   "execution_count": null,
   "metadata": {},
   "outputs": [],
   "source": []
  }
 ],
 "metadata": {
  "kernelspec": {
   "display_name": "Python 3",
   "language": "python",
   "name": "python3"
  },
  "language_info": {
   "codemirror_mode": {
    "name": "ipython",
    "version": 3
   },
   "file_extension": ".py",
   "mimetype": "text/x-python",
   "name": "python",
   "nbconvert_exporter": "python",
   "pygments_lexer": "ipython3",
   "version": "3.8.5"
  }
 },
 "nbformat": 4,
 "nbformat_minor": 4
}
